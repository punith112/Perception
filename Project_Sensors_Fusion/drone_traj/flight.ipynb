{
 "cells": [
  {
   "cell_type": "code",
   "execution_count": 1,
   "metadata": {},
   "outputs": [],
   "source": [
    "import pandas as pd\n",
    "import numpy as np\n",
    "import matplotlib.pyplot as plt"
   ]
  },
  {
   "cell_type": "code",
   "execution_count": 6,
   "metadata": {},
   "outputs": [],
   "source": [
    "path = '/home/rus/Desktop/Perception/Project_Sensors_Fusion/drone_traj/drone_traj/'\n",
    "mocap = pd.read_csv(path+'_slash_vicon_slash_waredrone_slash_waredrone.csv')\n",
    "imu = pd.read_csv(path+'_slash_imu_slash_data.csv')"
   ]
  },
  {
   "cell_type": "code",
   "execution_count": 7,
   "metadata": {},
   "outputs": [
    {
     "data": {
      "text/html": [
       "<div>\n",
       "<style scoped>\n",
       "    .dataframe tbody tr th:only-of-type {\n",
       "        vertical-align: middle;\n",
       "    }\n",
       "\n",
       "    .dataframe tbody tr th {\n",
       "        vertical-align: top;\n",
       "    }\n",
       "\n",
       "    .dataframe thead th {\n",
       "        text-align: right;\n",
       "    }\n",
       "</style>\n",
       "<table border=\"1\" class=\"dataframe\">\n",
       "  <thead>\n",
       "    <tr style=\"text-align: right;\">\n",
       "      <th></th>\n",
       "      <th>rosbagTimestamp</th>\n",
       "      <th>header</th>\n",
       "      <th>seq</th>\n",
       "      <th>stamp</th>\n",
       "      <th>secs</th>\n",
       "      <th>nsecs</th>\n",
       "      <th>frame_id</th>\n",
       "      <th>child_frame_id</th>\n",
       "      <th>transform</th>\n",
       "      <th>translation</th>\n",
       "      <th>x</th>\n",
       "      <th>y</th>\n",
       "      <th>z</th>\n",
       "      <th>rotation</th>\n",
       "      <th>x.1</th>\n",
       "      <th>y.1</th>\n",
       "      <th>z.1</th>\n",
       "      <th>w</th>\n",
       "    </tr>\n",
       "  </thead>\n",
       "  <tbody>\n",
       "    <tr>\n",
       "      <th>0</th>\n",
       "      <td>1545224250918270763</td>\n",
       "      <td>NaN</td>\n",
       "      <td>164064</td>\n",
       "      <td>NaN</td>\n",
       "      <td>1545224250</td>\n",
       "      <td>898109118</td>\n",
       "      <td>\"/world\"</td>\n",
       "      <td>\"vicon/waredrone/waredrone\"</td>\n",
       "      <td>NaN</td>\n",
       "      <td>NaN</td>\n",
       "      <td>0.238554</td>\n",
       "      <td>-0.277686</td>\n",
       "      <td>0.349137</td>\n",
       "      <td>NaN</td>\n",
       "      <td>0.008631</td>\n",
       "      <td>-0.008827</td>\n",
       "      <td>-0.687622</td>\n",
       "      <td>0.725964</td>\n",
       "    </tr>\n",
       "    <tr>\n",
       "      <th>1</th>\n",
       "      <td>1545224250931006648</td>\n",
       "      <td>NaN</td>\n",
       "      <td>164065</td>\n",
       "      <td>NaN</td>\n",
       "      <td>1545224250</td>\n",
       "      <td>908270079</td>\n",
       "      <td>\"/world\"</td>\n",
       "      <td>\"vicon/waredrone/waredrone\"</td>\n",
       "      <td>NaN</td>\n",
       "      <td>NaN</td>\n",
       "      <td>0.238560</td>\n",
       "      <td>-0.277689</td>\n",
       "      <td>0.349169</td>\n",
       "      <td>NaN</td>\n",
       "      <td>0.008620</td>\n",
       "      <td>-0.008858</td>\n",
       "      <td>-0.687624</td>\n",
       "      <td>0.725962</td>\n",
       "    </tr>\n",
       "    <tr>\n",
       "      <th>2</th>\n",
       "      <td>1545224250937436250</td>\n",
       "      <td>NaN</td>\n",
       "      <td>164066</td>\n",
       "      <td>NaN</td>\n",
       "      <td>1545224250</td>\n",
       "      <td>917922404</td>\n",
       "      <td>\"/world\"</td>\n",
       "      <td>\"vicon/waredrone/waredrone\"</td>\n",
       "      <td>NaN</td>\n",
       "      <td>NaN</td>\n",
       "      <td>0.238570</td>\n",
       "      <td>-0.277679</td>\n",
       "      <td>0.349158</td>\n",
       "      <td>NaN</td>\n",
       "      <td>0.008637</td>\n",
       "      <td>-0.008863</td>\n",
       "      <td>-0.687612</td>\n",
       "      <td>0.725973</td>\n",
       "    </tr>\n",
       "    <tr>\n",
       "      <th>3</th>\n",
       "      <td>1545224250950658489</td>\n",
       "      <td>NaN</td>\n",
       "      <td>164067</td>\n",
       "      <td>NaN</td>\n",
       "      <td>1545224250</td>\n",
       "      <td>928664420</td>\n",
       "      <td>\"/world\"</td>\n",
       "      <td>\"vicon/waredrone/waredrone\"</td>\n",
       "      <td>NaN</td>\n",
       "      <td>NaN</td>\n",
       "      <td>0.238575</td>\n",
       "      <td>-0.277677</td>\n",
       "      <td>0.349145</td>\n",
       "      <td>NaN</td>\n",
       "      <td>0.008670</td>\n",
       "      <td>-0.008872</td>\n",
       "      <td>-0.687617</td>\n",
       "      <td>0.725967</td>\n",
       "    </tr>\n",
       "    <tr>\n",
       "      <th>4</th>\n",
       "      <td>1545224250957771685</td>\n",
       "      <td>NaN</td>\n",
       "      <td>164068</td>\n",
       "      <td>NaN</td>\n",
       "      <td>1545224250</td>\n",
       "      <td>938379292</td>\n",
       "      <td>\"/world\"</td>\n",
       "      <td>\"vicon/waredrone/waredrone\"</td>\n",
       "      <td>NaN</td>\n",
       "      <td>NaN</td>\n",
       "      <td>0.238568</td>\n",
       "      <td>-0.277659</td>\n",
       "      <td>0.349114</td>\n",
       "      <td>NaN</td>\n",
       "      <td>0.008649</td>\n",
       "      <td>-0.008839</td>\n",
       "      <td>-0.687620</td>\n",
       "      <td>0.725966</td>\n",
       "    </tr>\n",
       "  </tbody>\n",
       "</table>\n",
       "</div>"
      ],
      "text/plain": [
       "       rosbagTimestamp  header     seq  stamp        secs      nsecs  \\\n",
       "0  1545224250918270763     NaN  164064    NaN  1545224250  898109118   \n",
       "1  1545224250931006648     NaN  164065    NaN  1545224250  908270079   \n",
       "2  1545224250937436250     NaN  164066    NaN  1545224250  917922404   \n",
       "3  1545224250950658489     NaN  164067    NaN  1545224250  928664420   \n",
       "4  1545224250957771685     NaN  164068    NaN  1545224250  938379292   \n",
       "\n",
       "   frame_id               child_frame_id  transform  translation         x  \\\n",
       "0  \"/world\"  \"vicon/waredrone/waredrone\"        NaN          NaN  0.238554   \n",
       "1  \"/world\"  \"vicon/waredrone/waredrone\"        NaN          NaN  0.238560   \n",
       "2  \"/world\"  \"vicon/waredrone/waredrone\"        NaN          NaN  0.238570   \n",
       "3  \"/world\"  \"vicon/waredrone/waredrone\"        NaN          NaN  0.238575   \n",
       "4  \"/world\"  \"vicon/waredrone/waredrone\"        NaN          NaN  0.238568   \n",
       "\n",
       "          y         z  rotation       x.1       y.1       z.1         w  \n",
       "0 -0.277686  0.349137       NaN  0.008631 -0.008827 -0.687622  0.725964  \n",
       "1 -0.277689  0.349169       NaN  0.008620 -0.008858 -0.687624  0.725962  \n",
       "2 -0.277679  0.349158       NaN  0.008637 -0.008863 -0.687612  0.725973  \n",
       "3 -0.277677  0.349145       NaN  0.008670 -0.008872 -0.687617  0.725967  \n",
       "4 -0.277659  0.349114       NaN  0.008649 -0.008839 -0.687620  0.725966  "
      ]
     },
     "execution_count": 7,
     "metadata": {},
     "output_type": "execute_result"
    }
   ],
   "source": [
    "mocap.head()"
   ]
  },
  {
   "cell_type": "code",
   "execution_count": 8,
   "metadata": {},
   "outputs": [],
   "source": [
    "### mocap data\n",
    "mts = np.array(mocap.secs)\n",
    "mts = mts + np.array(mocap.nsecs/10e8)\n",
    "mts = mts - mts[0]\n",
    "\n",
    "mx = np.array(mocap.x)\n",
    "mx = mx - mx[0]\n",
    "my = np.array(mocap.y)\n",
    "my = my - my[0]\n",
    "mz = np.array(mocap.z)\n",
    "mz = mz - mz[0]"
   ]
  },
  {
   "cell_type": "code",
   "execution_count": 9,
   "metadata": {},
   "outputs": [
    {
     "data": {
      "text/plain": [
       "[<matplotlib.lines.Line2D at 0x7faca84c3518>]"
      ]
     },
     "execution_count": 9,
     "metadata": {},
     "output_type": "execute_result"
    },
    {
     "data": {
      "image/png": "[encoded data removed]",
      "text/plain": [
       "<Figure size 432x288 with 1 Axes>"
      ]
     },
     "metadata": {
      "needs_background": "light"
     },
     "output_type": "display_data"
    }
   ],
   "source": [
    "plt.plot(mx, my)"
   ]
  }
 ],
 "metadata": {
  "kernelspec": {
   "display_name": "Python 3",
   "language": "python",
   "name": "python3"
  },
  "language_info": {
   "codemirror_mode": {
    "name": "ipython",
    "version": 3
   },
   "file_extension": ".py",
   "mimetype": "text/x-python",
   "name": "python",
   "nbconvert_exporter": "python",
   "pygments_lexer": "ipython3",
   "version": "3.5.2"
  }
 },
 "nbformat": 4,
 "nbformat_minor": 2
}
